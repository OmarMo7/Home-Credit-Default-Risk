{
 "cells": [
  {
   "cell_type": "code",
   "execution_count": 1,
   "metadata": {},
   "outputs": [],
   "source": [
    "# !pip install scikit-learn"
   ]
  },
  {
   "cell_type": "code",
   "execution_count": 2,
   "metadata": {},
   "outputs": [],
   "source": [
    "import pandas as pd\n",
    "import tensorflow as tf\n",
    "from imblearn.over_sampling import SMOTE\n",
    "from sklearn.preprocessing import StandardScaler\n",
    "from sklearn.ensemble import RandomForestClassifier\n",
    "from sklearn.model_selection import train_test_split\n",
    "from sklearn.metrics import accuracy_score, confusion_matrix, classification_report, ConfusionMatrixDisplay\n",
    "import matplotlib.pyplot as plt"
   ]
  },
  {
   "cell_type": "code",
   "execution_count": 3,
   "metadata": {},
   "outputs": [],
   "source": [
    "df_train_original = pd.read_csv('data/application_train.csv')\n",
    "df_test_original = pd.read_csv('data/application_test.csv')"
   ]
  },
  {
   "cell_type": "markdown",
   "metadata": {},
   "source": [
    "### Perform a preprocessing step on the train data"
   ]
  },
  {
   "cell_type": "code",
   "execution_count": 4,
   "metadata": {},
   "outputs": [],
   "source": [
    "# Drop columns with all NaN values\n",
    "df_train_original = df_train_original.dropna(axis=1, how='all')\n",
    "\n",
    "# Drop columns with more than 95% NaN values\n",
    "threshold = len(df_train_original) * 0.95\n",
    "df_train_original = df_train_original.dropna(axis=1, thresh=threshold)\n",
    "\n",
    "# Drop NaN values\n",
    "df_train_original = df_train_original.dropna()\n",
    "\n",
    "# One-hot encode categorical variables\n",
    "df_train_original = pd.get_dummies(df_train_original)"
   ]
  },
  {
   "cell_type": "markdown",
   "metadata": {},
   "source": [
    "### Perform a preprocessing step on the test data"
   ]
  },
  {
   "cell_type": "code",
   "execution_count": 5,
   "metadata": {},
   "outputs": [],
   "source": [
    "# Drop columns with all NaN values\n",
    "df_test_original = df_test_original.dropna(axis=1, how='all')\n",
    "\n",
    "# Drop columns with more than 95% NaN values\n",
    "threshold = len(df_test_original) * 0.95\n",
    "df_test_original = df_test_original.dropna(axis=1, thresh=threshold)\n",
    "\n",
    "# Drop NaN values\n",
    "df_test_original = df_test_original.dropna()\n",
    "\n",
    "# One-hot encode categorical variables\n",
    "df_test_original = pd.get_dummies(df_test_original)"
   ]
  },
  {
   "cell_type": "markdown",
   "metadata": {},
   "source": [
    "### Remove columns from `df_train_original` that do not exist in `df_test_original`"
   ]
  },
  {
   "cell_type": "code",
   "execution_count": 6,
   "metadata": {},
   "outputs": [],
   "source": [
    "intersection = list(set(df_train_original.columns) &\n",
    "                  set(df_test_original.columns))\n",
    "intersection.append(\"TARGET\")\n",
    "\n",
    "df_train_original = df_train_original[intersection]"
   ]
  },
  {
   "cell_type": "code",
   "execution_count": 7,
   "metadata": {},
   "outputs": [],
   "source": [
    "# Separate features and target variable from df_train\n",
    "X = df_train_original.drop(columns=['TARGET', 'SK_ID_CURR'])\n",
    "y = df_train_original['TARGET']\n",
    "\n",
    "# Split the data into training and validation sets\n",
    "X_train, X_val, y_train, y_val = train_test_split(\n",
    "    X, y, test_size=0.2, random_state=42)\n",
    "\n",
    "# Initialize the scaler\n",
    "scaler = StandardScaler()\n",
    "\n",
    "# Fit the scaler on the training data and transform it\n",
    "X_train_scaled = scaler.fit_transform(X_train)\n",
    "\n",
    "# Transform the validation and test data\n",
    "X_val_scaled = scaler.transform(X_val)\n",
    "\n",
    "# Ensure df_test has the same columns as X_train\n",
    "df_test_aligned = df_test_original[X_train.columns]\n",
    "\n",
    "# Transform the test data\n",
    "X_test_scaled = scaler.transform(df_test_aligned)"
   ]
  },
  {
   "cell_type": "code",
   "execution_count": 8,
   "metadata": {},
   "outputs": [
    {
     "name": "stderr",
     "output_type": "stream",
     "text": [
      "e:\\WEB Projects\\Home Credit Default Risk\\.venv\\lib\\site-packages\\imblearn\\over_sampling\\_smote\\base.py:370: FutureWarning: The parameter `n_jobs` has been deprecated in 0.10 and will be removed in 0.12. You can pass an nearest neighbors estimator where `n_jobs` is already set instead.\n",
      "  warnings.warn(\n"
     ]
    }
   ],
   "source": [
    "# Define the SMOTE sampler\n",
    "smote = SMOTE(sampling_strategy=0.5, k_neighbors=10,\n",
    "              random_state=42, n_jobs=-1)\n",
    "# Fit the sampler to balance the training data\n",
    "X_train_balanced, y_train_balanced = smote.fit_resample(\n",
    "    X_train_scaled, y_train)"
   ]
  },
  {
   "cell_type": "code",
   "execution_count": 9,
   "metadata": {},
   "outputs": [],
   "source": [
    "# Configure the RandomForest model\n",
    "rf_model = RandomForestClassifier(\n",
    "    n_estimators=100,  # Number of trees in the forest\n",
    "    max_depth=None,    # Maximum depth of the tree\n",
    "    min_samples_split=2,  # Minimum number of samples required to split an internal node\n",
    "    min_samples_leaf=1,   # Minimum number of samples required to be at a leaf node\n",
    "    max_features='sqrt',  # Number of features to consider when looking for the best split\n",
    "    random_state=42,      # Seed for reproducibility\n",
    "    n_jobs=-1             # Use all available cores\n",
    ")"
   ]
  },
  {
   "cell_type": "code",
   "execution_count": 13,
   "metadata": {},
   "outputs": [],
   "source": [
    "# Train the model\n",
    "rf_model.fit(X_train_balanced, y_train_balanced)\n",
    "\n",
    "# Predict on the validation set\n",
    "y_pred = rf_model.predict(X_val_scaled)"
   ]
  },
  {
   "cell_type": "code",
   "execution_count": 14,
   "metadata": {},
   "outputs": [
    {
     "name": "stdout",
     "output_type": "stream",
     "text": [
      "Accuracy: 0.9178583742426979\n",
      "Confusion Matrix:\n",
      "[[55893    26]\n",
      " [ 4977    11]]\n",
      "Classification Report:\n",
      "              precision    recall  f1-score   support\n",
      "\n",
      "           0       0.92      1.00      0.96     55919\n",
      "           1       0.30      0.00      0.00      4988\n",
      "\n",
      "    accuracy                           0.92     60907\n",
      "   macro avg       0.61      0.50      0.48     60907\n",
      "weighted avg       0.87      0.92      0.88     60907\n",
      "\n"
     ]
    }
   ],
   "source": [
    "# Evaluate the model\n",
    "accuracy = accuracy_score(y_val, y_pred)\n",
    "conf_matrix = confusion_matrix(y_val, y_pred)\n",
    "class_report = classification_report(y_val, y_pred)\n",
    "\n",
    "print(f'Accuracy: {accuracy}')\n",
    "print('Confusion Matrix:')\n",
    "print(conf_matrix)\n",
    "print('Classification Report:')\n",
    "print(class_report)"
   ]
  },
  {
   "cell_type": "code",
   "execution_count": 15,
   "metadata": {},
   "outputs": [
    {
     "data": {
      "image/png": "[encoded data removed]",
      "text/plain": [
       "<Figure size 640x480 with 2 Axes>"
      ]
     },
     "metadata": {},
     "output_type": "display_data"
    }
   ],
   "source": [
    "# Display the confusion matrix\n",
    "disp = ConfusionMatrixDisplay(confusion_matrix=conf_matrix)\n",
    "disp.plot(cmap=plt.cm.Blues)\n",
    "plt.show()"
   ]
  },
  {
   "cell_type": "code",
   "execution_count": null,
   "metadata": {},
   "outputs": [],
   "source": [
    "# Predict on the test set\n",
    "df_test_original['TARGET'] = rf_model.predict(\n",
    "    X_test_scaled).round().astype(int)\n",
    "\n",
    "# Export the predictions to a CSV file\n",
    "df_test_original.to_csv('df_test_original_predictions_random_forest.csv', index=False)"
   ]
  }
 ],
 "metadata": {
  "kernelspec": {
   "display_name": ".venv",
   "language": "python",
   "name": "python3"
  },
  "language_info": {
   "codemirror_mode": {
    "name": "ipython",
    "version": 3
   },
   "file_extension": ".py",
   "mimetype": "text/x-python",
   "name": "python",
   "nbconvert_exporter": "python",
   "pygments_lexer": "ipython3",
   "version": "3.10.6"
  }
 },
 "nbformat": 4,
 "nbformat_minor": 2
}
