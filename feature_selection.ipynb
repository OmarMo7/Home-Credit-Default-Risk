{
 "cells": [
  {
   "cell_type": "code",
   "execution_count": 39,
   "metadata": {},
   "outputs": [],
   "source": [
    "import numpy as np\n",
    "import pandas as pd\n",
    "import pandas as pd\n",
    "import pandas as pd\n",
    "from sklearn.feature_selection import SelectKBest, chi2\n",
    "from sklearn.ensemble import RandomForestClassifier\n",
    "from sklearn.decomposition import PCA\n",
    "from sklearn.preprocessing import StandardScaler"
   ]
  },
  {
   "cell_type": "code",
   "execution_count": 2,
   "metadata": {},
   "outputs": [],
   "source": [
    "df_application_train = pd.read_csv(\"./data/application_train.csv\")\n",
    "df_application_test = pd.read_csv(\"./data/application_test.csv\")"
   ]
  },
  {
   "cell_type": "markdown",
   "metadata": {},
   "source": [
    "## Peform Basic Data Cleansing"
   ]
  },
  {
   "cell_type": "code",
   "execution_count": 11,
   "metadata": {},
   "outputs": [
    {
     "name": "stdout",
     "output_type": "stream",
     "text": [
      "CNT_CHILDREN                   0\n",
      "AMT_INCOME_TOTAL               0\n",
      "AMT_CREDIT                     0\n",
      "AMT_ANNUITY                    0\n",
      "AMT_GOODS_PRICE                0\n",
      "REGION_POPULATION_RELATIVE     0\n",
      "DAYS_BIRTH                     0\n",
      "DAYS_EMPLOYED                  0\n",
      "DAYS_REGISTRATION              0\n",
      "DAYS_ID_PUBLISH                0\n",
      "FLAG_MOBIL                     0\n",
      "FLAG_EMP_PHONE                 0\n",
      "FLAG_WORK_PHONE                0\n",
      "FLAG_CONT_MOBILE               0\n",
      "FLAG_PHONE                     0\n",
      "FLAG_EMAIL                     0\n",
      "CNT_FAM_MEMBERS                0\n",
      "REGION_RATING_CLIENT           0\n",
      "REGION_RATING_CLIENT_W_CITY    0\n",
      "HOUR_APPR_PROCESS_START        0\n",
      "REG_REGION_NOT_LIVE_REGION     0\n",
      "REG_REGION_NOT_WORK_REGION     0\n",
      "LIVE_REGION_NOT_WORK_REGION    0\n",
      "REG_CITY_NOT_LIVE_CITY         0\n",
      "REG_CITY_NOT_WORK_CITY         0\n",
      "LIVE_CITY_NOT_WORK_CITY        0\n",
      "EXT_SOURCE_2                   0\n",
      "OBS_30_CNT_SOCIAL_CIRCLE       0\n",
      "DEF_30_CNT_SOCIAL_CIRCLE       0\n",
      "OBS_60_CNT_SOCIAL_CIRCLE       0\n",
      "DEF_60_CNT_SOCIAL_CIRCLE       0\n",
      "DAYS_LAST_PHONE_CHANGE         0\n",
      "FLAG_DOCUMENT_2                0\n",
      "FLAG_DOCUMENT_3                0\n",
      "FLAG_DOCUMENT_4                0\n",
      "FLAG_DOCUMENT_5                0\n",
      "FLAG_DOCUMENT_6                0\n",
      "FLAG_DOCUMENT_7                0\n",
      "FLAG_DOCUMENT_8                0\n",
      "FLAG_DOCUMENT_9                0\n",
      "FLAG_DOCUMENT_10               0\n",
      "FLAG_DOCUMENT_11               0\n",
      "FLAG_DOCUMENT_12               0\n",
      "FLAG_DOCUMENT_13               0\n",
      "FLAG_DOCUMENT_14               0\n",
      "FLAG_DOCUMENT_15               0\n",
      "FLAG_DOCUMENT_16               0\n",
      "FLAG_DOCUMENT_17               0\n",
      "FLAG_DOCUMENT_18               0\n",
      "FLAG_DOCUMENT_19               0\n",
      "FLAG_DOCUMENT_20               0\n",
      "FLAG_DOCUMENT_21               0\n",
      "dtype: int64\n"
     ]
    }
   ],
   "source": [
    "# Drop columns with all NaN values\n",
    "df_application_train = df_application_train.dropna(axis=1, how='all')\n",
    "\n",
    "# Drop columns with more than 95% NaN values\n",
    "threshold = len(df_application_train) * 0.95\n",
    "df_application_train = df_application_train.dropna(axis=1, thresh=threshold)\n",
    "\n",
    "# Drop NaN values\n",
    "df_application_train = df_application_train.dropna()\n",
    "\n",
    "print(df_application_train.isna().sum())\n",
    "\n",
    "# Convert the DataFrame to numeric, forcing errors to NaN\n",
    "df_application_train = df_application_train.apply(pd.to_numeric, errors='coerce')\n",
    "\n",
    "# Now apply your condition\n",
    "df_application_train[df_application_train < 0] = df_application_train[df_application_train < 0] * -1\n",
    "\n",
    "# One-hot encode categorical variables\n",
    "df_application_train = pd.get_dummies(df_application_train)\n",
    "\n",
    "X = df_application_train.drop(columns=['TARGET', 'SK_ID_CURR'])\n",
    "y = df_application_train['TARGET']"
   ]
  },
  {
   "cell_type": "markdown",
   "metadata": {},
   "source": [
    "## Select best features with `Univariate Selection`\n",
    "> This method uses statistical tests to select features that have the strongest relationship with the output variable."
   ]
  },
  {
   "cell_type": "code",
   "execution_count": 12,
   "metadata": {},
   "outputs": [
    {
     "name": "stdout",
     "output_type": "stream",
     "text": [
      "                   Feature         Score\n",
      "7            DAYS_EMPLOYED  1.955199e+08\n",
      "4          AMT_GOODS_PRICE  1.204756e+08\n",
      "2               AMT_CREDIT  7.558970e+07\n",
      "6               DAYS_BIRTH  2.233681e+06\n",
      "8        DAYS_REGISTRATION  1.352872e+06\n",
      "1         AMT_INCOME_TOTAL  1.342819e+06\n",
      "31  DAYS_LAST_PHONE_CHANGE  6.737951e+05\n",
      "9          DAYS_ID_PUBLISH  6.119764e+05\n",
      "3              AMT_ANNUITY  3.752007e+05\n",
      "24  REG_CITY_NOT_WORK_CITY  6.128890e+02\n"
     ]
    }
   ],
   "source": [
    "# Apply SelectKBest class to extract top 10 best features\n",
    "best_features = SelectKBest(score_func=chi2, k=10)\n",
    "fit = best_features.fit(X, y)\n",
    "\n",
    "# Get the scores for each feature\n",
    "dfscores = pd.DataFrame(fit.scores_)\n",
    "dfcolumns = pd.DataFrame(X.columns)\n",
    "\n",
    "# Concat two dataframes for better visualization\n",
    "feature_scores = pd.concat([dfcolumns, dfscores], axis=1)\n",
    "feature_scores.columns = ['Feature', 'Score']\n",
    "print(feature_scores.nlargest(10, 'Score'))"
   ]
  },
  {
   "cell_type": "code",
   "execution_count": 27,
   "metadata": {},
   "outputs": [
    {
     "data": {
      "text/plain": [
       "{'AMT_ANNUITY',\n",
       " 'AMT_CREDIT',\n",
       " 'AMT_GOODS_PRICE',\n",
       " 'AMT_INCOME_TOTAL',\n",
       " 'DAYS_BIRTH',\n",
       " 'DAYS_EMPLOYED',\n",
       " 'DAYS_ID_PUBLISH',\n",
       " 'DAYS_LAST_PHONE_CHANGE',\n",
       " 'DAYS_REGISTRATION',\n",
       " 'REG_CITY_NOT_WORK_CITY'}"
      ]
     },
     "execution_count": 27,
     "metadata": {},
     "output_type": "execute_result"
    }
   ],
   "source": [
    "univariate_features = set(X.columns[fit.get_support()])\n",
    "univariate_features"
   ]
  },
  {
   "cell_type": "markdown",
   "metadata": {},
   "source": [
    "## Select best features with `Recursive Feature Elimination (RFE)`\n",
    "> RFE works by recursively removing the least important features and building the model with the remaining features. It uses the model accuracy to identify which features contribute the most.\n"
   ]
  },
  {
   "cell_type": "code",
   "execution_count": 13,
   "metadata": {},
   "outputs": [
    {
     "name": "stdout",
     "output_type": "stream",
     "text": [
      "1. Column EXT_SOURCE_2 (0.101917)\n",
      "2. Column DAYS_BIRTH (0.078488)\n",
      "3. Column DAYS_ID_PUBLISH (0.076915)\n",
      "4. Column DAYS_REGISTRATION (0.076806)\n",
      "5. Column DAYS_EMPLOYED (0.070963)\n",
      "6. Column AMT_ANNUITY (0.070892)\n",
      "7. Column DAYS_LAST_PHONE_CHANGE (0.067922)\n",
      "8. Column AMT_CREDIT (0.063631)\n",
      "9. Column AMT_INCOME_TOTAL (0.055784)\n",
      "10. Column REGION_POPULATION_RELATIVE (0.054365)\n",
      "11. Column AMT_GOODS_PRICE (0.050947)\n",
      "12. Column HOUR_APPR_PROCESS_START (0.048212)\n",
      "13. Column OBS_30_CNT_SOCIAL_CIRCLE (0.024349)\n",
      "14. Column OBS_60_CNT_SOCIAL_CIRCLE (0.024183)\n",
      "15. Column CNT_FAM_MEMBERS (0.021511)\n",
      "16. Column CNT_CHILDREN (0.014096)\n",
      "17. Column FLAG_PHONE (0.009879)\n",
      "18. Column FLAG_WORK_PHONE (0.008887)\n",
      "19. Column DEF_30_CNT_SOCIAL_CIRCLE (0.008080)\n",
      "20. Column REGION_RATING_CLIENT_W_CITY (0.006982)\n",
      "21. Column REGION_RATING_CLIENT (0.006844)\n",
      "22. Column DEF_60_CNT_SOCIAL_CIRCLE (0.006381)\n",
      "23. Column FLAG_DOCUMENT_3 (0.006326)\n",
      "24. Column REG_CITY_NOT_WORK_CITY (0.006270)\n",
      "25. Column LIVE_CITY_NOT_WORK_CITY (0.006196)\n",
      "26. Column FLAG_EMAIL (0.005092)\n",
      "27. Column REG_CITY_NOT_LIVE_CITY (0.005072)\n",
      "28. Column FLAG_DOCUMENT_8 (0.003669)\n",
      "29. Column REG_REGION_NOT_WORK_REGION (0.003212)\n",
      "30. Column LIVE_REGION_NOT_WORK_REGION (0.002934)\n",
      "31. Column FLAG_DOCUMENT_6 (0.002366)\n",
      "32. Column FLAG_EMP_PHONE (0.002151)\n",
      "33. Column FLAG_DOCUMENT_5 (0.001958)\n",
      "34. Column REG_REGION_NOT_LIVE_REGION (0.001587)\n",
      "35. Column FLAG_DOCUMENT_16 (0.001056)\n",
      "36. Column FLAG_DOCUMENT_18 (0.001033)\n",
      "37. Column FLAG_DOCUMENT_9 (0.000634)\n",
      "38. Column FLAG_CONT_MOBILE (0.000481)\n",
      "39. Column FLAG_DOCUMENT_11 (0.000408)\n",
      "40. Column FLAG_DOCUMENT_13 (0.000319)\n",
      "41. Column FLAG_DOCUMENT_14 (0.000280)\n",
      "42. Column FLAG_DOCUMENT_20 (0.000209)\n",
      "43. Column FLAG_DOCUMENT_19 (0.000179)\n",
      "44. Column FLAG_DOCUMENT_21 (0.000175)\n",
      "45. Column FLAG_DOCUMENT_15 (0.000156)\n",
      "46. Column FLAG_DOCUMENT_2 (0.000102)\n",
      "47. Column FLAG_DOCUMENT_17 (0.000055)\n",
      "48. Column FLAG_DOCUMENT_7 (0.000042)\n",
      "49. Column FLAG_DOCUMENT_4 (0.000002)\n",
      "50. Column FLAG_DOCUMENT_10 (0.000001)\n",
      "51. Column FLAG_DOCUMENT_12 (0.000000)\n",
      "52. Column FLAG_MOBIL (0.000000)\n"
     ]
    }
   ],
   "source": [
    "model = RandomForestClassifier()\n",
    "model.fit(X, y)\n",
    "\n",
    "# Get feature importances\n",
    "importances = model.feature_importances_\n",
    "indices = np.argsort(importances)[::-1]\n",
    "\n",
    "# Print the feature ranking\n",
    "for f in range(X.shape[1]):\n",
    "    print(\"%d. Column %s (%f)\" %\n",
    "          (f + 1, X.columns[indices[f]], importances[indices[f]]))"
   ]
  },
  {
   "cell_type": "code",
   "execution_count": 26,
   "metadata": {},
   "outputs": [
    {
     "data": {
      "text/plain": [
       "{'AMT_ANNUITY',\n",
       " 'AMT_CREDIT',\n",
       " 'AMT_INCOME_TOTAL',\n",
       " 'DAYS_BIRTH',\n",
       " 'DAYS_EMPLOYED',\n",
       " 'DAYS_ID_PUBLISH',\n",
       " 'DAYS_LAST_PHONE_CHANGE',\n",
       " 'DAYS_REGISTRATION',\n",
       " 'EXT_SOURCE_2',\n",
       " 'REGION_POPULATION_RELATIVE'}"
      ]
     },
     "execution_count": 26,
     "metadata": {},
     "output_type": "execute_result"
    }
   ],
   "source": [
    "rfe_features = set(X.columns[indices[:10]])\n",
    "rfe_features"
   ]
  },
  {
   "cell_type": "markdown",
   "metadata": {},
   "source": [
    "## Select best features with `Correlation Coefficient`\n",
    "> It's is a measure of the linear relationship between 2 or more variables."
   ]
  },
  {
   "cell_type": "code",
   "execution_count": 15,
   "metadata": {},
   "outputs": [
    {
     "data": {
      "text/plain": [
       "TARGET                         1.000000\n",
       "EXT_SOURCE_2                   0.160819\n",
       "DAYS_BIRTH                     0.078636\n",
       "REGION_RATING_CLIENT_W_CITY    0.060900\n",
       "REGION_RATING_CLIENT           0.058904\n",
       "DAYS_LAST_PHONE_CHANGE         0.055887\n",
       "DAYS_ID_PUBLISH                0.051397\n",
       "REG_CITY_NOT_WORK_CITY         0.051146\n",
       "DAYS_EMPLOYED                  0.047290\n",
       "FLAG_EMP_PHONE                 0.046223\n",
       "Name: TARGET, dtype: float64"
      ]
     },
     "execution_count": 15,
     "metadata": {},
     "output_type": "execute_result"
    }
   ],
   "source": [
    "# Calculate the correlation matrix\n",
    "corr_matrix = df_application_train.corr()\n",
    "\n",
    "# Get the absolute correlation values with the target variable\n",
    "important_features = corr_matrix['TARGET'].abs().sort_values(ascending=False)\n",
    "important_features[:10]"
   ]
  },
  {
   "cell_type": "code",
   "execution_count": 25,
   "metadata": {},
   "outputs": [
    {
     "data": {
      "text/plain": [
       "{'DAYS_BIRTH',\n",
       " 'DAYS_EMPLOYED',\n",
       " 'DAYS_ID_PUBLISH',\n",
       " 'DAYS_LAST_PHONE_CHANGE',\n",
       " 'EXT_SOURCE_2',\n",
       " 'FLAG_EMP_PHONE',\n",
       " 'REGION_RATING_CLIENT',\n",
       " 'REGION_RATING_CLIENT_W_CITY',\n",
       " 'REG_CITY_NOT_WORK_CITY',\n",
       " 'TARGET'}"
      ]
     },
     "execution_count": 25,
     "metadata": {},
     "output_type": "execute_result"
    }
   ],
   "source": [
    "correlation_features = set(important_features.index[:10])\n",
    "correlation_features"
   ]
  },
  {
   "cell_type": "markdown",
   "metadata": {},
   "source": [
    "## Select best features with `PCA`\n",
    "> A dimensionality reduction technique to select the best features"
   ]
  },
  {
   "cell_type": "code",
   "execution_count": 16,
   "metadata": {},
   "outputs": [
    {
     "name": "stdout",
     "output_type": "stream",
     "text": [
      "                                      PC1           PC2           PC3  \\\n",
      "CNT_CHILDREN                 2.629482e-09  6.167643e-08 -1.255103e-06   \n",
      "AMT_INCOME_TOTAL             8.409090e-02  9.952276e-01  4.920000e-02   \n",
      "AMT_CREDIT                   7.342335e-01 -6.491051e-02  6.676856e-03   \n",
      "AMT_ANNUITY                  2.059913e-02  2.615302e-03 -4.824209e-03   \n",
      "AMT_GOODS_PRICE              6.731188e-01 -5.487118e-02  1.309400e-02   \n",
      "REGION_POPULATION_RELATIVE   2.628386e-09  3.196519e-09  7.184185e-10   \n",
      "DAYS_BIRTH                   4.109482e-04 -1.047689e-03  1.969296e-02   \n",
      "DAYS_EMPLOYED               -1.778928e-02 -4.785102e-02  9.984559e-01   \n",
      "DAYS_REGISTRATION           -7.557823e-05 -4.798053e-04  5.388193e-03   \n",
      "DAYS_ID_PUBLISH              1.619251e-05 -1.158727e-04  2.993441e-03   \n",
      "FLAG_MOBIL                  -1.274670e-29 -4.098454e-30  8.722570e-29   \n",
      "FLAG_EMP_PHONE               4.988091e-08  1.317245e-07 -2.750653e-06   \n",
      "FLAG_WORK_PHONE             -7.895722e-09 -1.333310e-08 -6.806755e-07   \n",
      "FLAG_CONT_MOBILE             1.761040e-09 -2.406860e-09  4.309472e-09   \n",
      "FLAG_PHONE                   2.736743e-08 -1.263759e-08  6.114712e-08   \n",
      "FLAG_EMAIL                   7.887988e-09  3.685346e-08 -9.876852e-08   \n",
      "CNT_FAM_MEMBERS              1.064802e-07  4.228473e-08 -1.510698e-06   \n",
      "REGION_RATING_CLIENT        -9.835909e-08 -1.431345e-07  7.597413e-08   \n",
      "REGION_RATING_CLIENT_W_CITY -1.055501e-07 -1.513750e-07  7.823505e-08   \n",
      "HOUR_APPR_PROCESS_START      3.494814e-07  3.862818e-07 -2.010328e-06   \n",
      "REG_REGION_NOT_LIVE_REGION   5.876486e-09  1.428906e-08 -2.974838e-08   \n",
      "REG_REGION_NOT_WORK_REGION   2.209428e-08  5.159396e-08 -1.608581e-07   \n",
      "LIVE_REGION_NOT_WORK_REGION  1.985821e-08  4.239049e-08 -1.276293e-07   \n",
      "REG_CITY_NOT_LIVE_CITY      -1.292445e-08  1.355448e-08 -1.845597e-07   \n",
      "REG_CITY_NOT_WORK_CITY      -1.394930e-08  3.257681e-08 -7.880760e-07   \n",
      "LIVE_CITY_NOT_WORK_CITY      5.177523e-10  2.476573e-08 -6.095648e-07   \n",
      "EXT_SOURCE_2                 4.799072e-08  2.843452e-08 -8.246675e-09   \n",
      "OBS_30_CNT_SOCIAL_CIRCLE    -1.431808e-09 -1.374414e-07  8.212001e-08   \n",
      "DEF_30_CNT_SOCIAL_CIRCLE    -1.809232e-08 -1.810838e-08  4.499387e-08   \n",
      "OBS_60_CNT_SOCIAL_CIRCLE    -1.242865e-09 -1.355269e-07  8.393381e-08   \n",
      "DEF_60_CNT_SOCIAL_CIRCLE    -1.626286e-08 -1.367927e-08  2.967684e-08   \n",
      "DAYS_LAST_PHONE_CHANGE       1.166719e-04  1.689643e-05 -8.213064e-05   \n",
      "FLAG_DOCUMENT_2              1.166929e-10 -7.951124e-11 -1.204390e-10   \n",
      "FLAG_DOCUMENT_3              7.077276e-08 -5.001235e-08 -8.018771e-07   \n",
      "FLAG_DOCUMENT_4              1.431877e-11  1.391550e-11  3.905038e-11   \n",
      "FLAG_DOCUMENT_5             -1.488737e-09  2.132744e-09 -1.659531e-08   \n",
      "FLAG_DOCUMENT_6             -2.699184e-08 -6.472559e-08  1.209948e-06   \n",
      "FLAG_DOCUMENT_7             -7.195480e-12  2.844928e-10 -1.810578e-10   \n",
      "FLAG_DOCUMENT_8              4.244514e-08  7.083753e-08 -2.221485e-07   \n",
      "FLAG_DOCUMENT_9              2.528331e-09  3.904034e-09 -9.387469e-09   \n",
      "FLAG_DOCUMENT_10            -1.945851e-11  1.722783e-11 -8.377206e-12   \n",
      "FLAG_DOCUMENT_11             3.540422e-09 -7.793736e-10 -1.236067e-08   \n",
      "FLAG_DOCUMENT_12             1.904478e-11  1.989395e-11 -1.369399e-11   \n",
      "FLAG_DOCUMENT_13             5.580659e-09  3.336941e-09 -8.802780e-09   \n",
      "FLAG_DOCUMENT_14             4.742765e-09  2.661907e-09 -7.226441e-09   \n",
      "FLAG_DOCUMENT_15             1.952603e-09  6.343987e-10 -2.745767e-09   \n",
      "FLAG_DOCUMENT_16             1.050368e-08 -1.409851e-09 -2.658694e-08   \n",
      "FLAG_DOCUMENT_17             3.277249e-10  2.536021e-11 -7.296462e-10   \n",
      "FLAG_DOCUMENT_18             5.376299e-09 -8.675882e-10 -2.414668e-08   \n",
      "FLAG_DOCUMENT_19             8.976501e-10 -1.311848e-10 -1.473135e-09   \n",
      "FLAG_DOCUMENT_20             1.234048e-09 -5.064598e-10 -1.356346e-09   \n",
      "FLAG_DOCUMENT_21            -5.051832e-10  2.117791e-10 -1.247863e-09   \n",
      "\n",
      "                                      PC4           PC5           PC6  \\\n",
      "CNT_CHILDREN                -3.549087e-07  1.321468e-06 -4.253167e-05   \n",
      "AMT_INCOME_TOTAL            -3.705527e-03 -4.055014e-03  9.050217e-05   \n",
      "AMT_CREDIT                  -6.757198e-01 -6.427220e-03 -1.969578e-03   \n",
      "AMT_ANNUITY                  1.251253e-02  9.994676e-01  2.109266e-02   \n",
      "AMT_GOODS_PRICE              7.370233e-01 -2.290792e-02  6.884848e-04   \n",
      "REGION_POPULATION_RELATIVE   7.068252e-09  8.414698e-08  2.112086e-07   \n",
      "DAYS_BIRTH                  -1.951714e-03 -1.636600e-02  6.842582e-01   \n",
      "DAYS_EMPLOYED               -4.860101e-03  5.770734e-03 -1.745931e-02   \n",
      "DAYS_REGISTRATION           -1.213520e-03 -1.339703e-02  7.266632e-01   \n",
      "DAYS_ID_PUBLISH              4.596836e-04 -1.100357e-03  4.856969e-02   \n",
      "FLAG_MOBIL                  -3.339212e-28  1.516991e-29  1.694066e-21   \n",
      "FLAG_EMP_PHONE               1.459542e-08 -3.477342e-08  4.894772e-07   \n",
      "FLAG_WORK_PHONE              1.247031e-06 -2.246781e-06 -2.416207e-06   \n",
      "FLAG_CONT_MOBILE            -1.763350e-08  5.694891e-08  4.665412e-08   \n",
      "FLAG_PHONE                   9.801411e-07 -1.404968e-06  8.467687e-06   \n",
      "FLAG_EMAIL                   1.651484e-08  2.183774e-06 -2.930752e-06   \n",
      "CNT_FAM_MEMBERS             -1.729136e-07  2.659190e-06 -4.444504e-05   \n",
      "REGION_RATING_CLIENT        -1.309416e-07 -3.766269e-06 -1.047742e-05   \n",
      "REGION_RATING_CLIENT_W_CITY -7.993782e-08 -4.262545e-06 -9.783680e-06   \n",
      "HOUR_APPR_PROCESS_START      4.452614e-06 -2.894230e-07 -6.873881e-06   \n",
      "REG_REGION_NOT_LIVE_REGION   3.768888e-08  3.847591e-07 -1.499329e-06   \n",
      "REG_REGION_NOT_WORK_REGION   4.464106e-08  1.142279e-06 -1.798877e-06   \n",
      "LIVE_REGION_NOT_WORK_REGION  1.025764e-08  8.918823e-07 -6.528079e-07   \n",
      "REG_CITY_NOT_LIVE_CITY      -4.624613e-09  4.806168e-07 -8.589889e-06   \n",
      "REG_CITY_NOT_WORK_CITY      -5.475576e-08  2.280581e-07 -1.000269e-05   \n",
      "LIVE_CITY_NOT_WORK_CITY     -5.070701e-08 -4.868444e-08 -3.286307e-06   \n",
      "EXT_SOURCE_2                 2.186219e-07  5.164097e-07  5.877694e-06   \n",
      "OBS_30_CNT_SOCIAL_CIRCLE     5.583705e-08 -4.608058e-06 -1.023051e-05   \n",
      "DEF_30_CNT_SOCIAL_CIRCLE    -6.814948e-08 -3.383755e-07 -1.393873e-06   \n",
      "OBS_60_CNT_SOCIAL_CIRCLE     4.639688e-08 -4.472079e-06 -9.981097e-06   \n",
      "DEF_60_CNT_SOCIAL_CIRCLE    -4.107962e-08 -2.422302e-07 -1.159142e-06   \n",
      "DAYS_LAST_PHONE_CHANGE       3.252819e-04  3.936949e-04  2.526191e-02   \n",
      "FLAG_DOCUMENT_2              1.758556e-09 -5.344478e-09  8.517039e-09   \n",
      "FLAG_DOCUMENT_3             -1.242999e-06  2.314492e-06  5.048542e-06   \n",
      "FLAG_DOCUMENT_4              6.312826e-10  4.670870e-10  1.115218e-08   \n",
      "FLAG_DOCUMENT_5              6.446809e-08  3.460597e-09  5.679097e-08   \n",
      "FLAG_DOCUMENT_6             -1.885279e-07 -1.344960e-07  2.384010e-06   \n",
      "FLAG_DOCUMENT_7              2.999633e-09  1.272864e-09 -5.630132e-10   \n",
      "FLAG_DOCUMENT_8             -7.212048e-08  2.800402e-06 -3.557905e-06   \n",
      "FLAG_DOCUMENT_9             -1.787015e-09  1.577015e-07 -9.094304e-08   \n",
      "FLAG_DOCUMENT_10             3.085501e-10 -8.721866e-10  4.201822e-10   \n",
      "FLAG_DOCUMENT_11             5.404071e-08 -3.377157e-07 -4.885385e-07   \n",
      "FLAG_DOCUMENT_12             7.671284e-11 -1.111239e-09 -6.383182e-10   \n",
      "FLAG_DOCUMENT_13            -1.875676e-10 -1.777788e-07 -2.904790e-07   \n",
      "FLAG_DOCUMENT_14             2.165912e-09 -2.532536e-08 -2.815274e-07   \n",
      "FLAG_DOCUMENT_15             3.199592e-09 -6.343244e-08 -8.587687e-08   \n",
      "FLAG_DOCUMENT_16            -4.453199e-08 -6.736882e-07 -4.220837e-07   \n",
      "FLAG_DOCUMENT_17             1.080504e-09 -1.816083e-08 -1.858277e-08   \n",
      "FLAG_DOCUMENT_18            -1.582685e-08 -5.732186e-07 -5.842584e-07   \n",
      "FLAG_DOCUMENT_19            -2.530100e-09 -4.850850e-08 -1.041916e-08   \n",
      "FLAG_DOCUMENT_20             2.216151e-09 -4.943849e-08 -4.733312e-08   \n",
      "FLAG_DOCUMENT_21             3.866857e-09 -2.035267e-08 -8.330338e-08   \n",
      "\n",
      "                                      PC7           PC8           PC9  \\\n",
      "CNT_CHILDREN                -2.029828e-05  6.977437e-05  1.506200e-05   \n",
      "AMT_INCOME_TOTAL            -1.367829e-04 -3.523353e-05 -1.784116e-05   \n",
      "AMT_CREDIT                  -7.513869e-04  4.096447e-04  1.723573e-04   \n",
      "AMT_ANNUITY                  2.769100e-03 -1.156772e-04 -9.678178e-04   \n",
      "AMT_GOODS_PRICE             -5.452979e-05 -4.732739e-04 -2.935206e-04   \n",
      "REGION_POPULATION_RELATIVE  -9.538635e-08 -1.945607e-08  5.331785e-07   \n",
      "DAYS_BIRTH                   7.250274e-01 -7.022193e-02 -2.311089e-02   \n",
      "DAYS_EMPLOYED               -1.071156e-02 -1.574397e-03  7.842317e-04   \n",
      "DAYS_REGISTRATION           -6.867847e-01 -2.722601e-03 -8.352456e-03   \n",
      "DAYS_ID_PUBLISH              4.830924e-02  9.953591e-01 -6.750573e-02   \n",
      "FLAG_MOBIL                   2.710505e-20 -3.136529e-26  4.017093e-25   \n",
      "FLAG_EMP_PHONE               3.346638e-07  1.180341e-07  5.623210e-07   \n",
      "FLAG_WORK_PHONE             -2.434008e-06  6.664369e-06  1.864433e-05   \n",
      "FLAG_CONT_MOBILE             6.249874e-08 -9.018343e-08  1.467772e-06   \n",
      "FLAG_PHONE                  -4.044051e-06  8.621496e-06  2.977232e-05   \n",
      "FLAG_EMAIL                  -2.901936e-06  3.647302e-08  6.888545e-06   \n",
      "CNT_FAM_MEMBERS             -1.389261e-05  7.536143e-05  3.295684e-05   \n",
      "REGION_RATING_CLIENT         8.583495e-06  1.161547e-06 -7.347288e-06   \n",
      "REGION_RATING_CLIENT_W_CITY  7.846321e-06  1.906562e-06 -6.952423e-06   \n",
      "HOUR_APPR_PROCESS_START     -7.405350e-05 -2.693932e-06  5.345587e-05   \n",
      "REG_REGION_NOT_LIVE_REGION  -1.313547e-06 -1.588284e-06 -4.867313e-06   \n",
      "REG_REGION_NOT_WORK_REGION  -1.786472e-06 -2.330490e-06 -9.824481e-06   \n",
      "LIVE_REGION_NOT_WORK_REGION -6.099677e-07 -1.000656e-06 -5.959497e-06   \n",
      "REG_CITY_NOT_LIVE_CITY      -8.469123e-06 -5.273502e-06 -1.057143e-05   \n",
      "REG_CITY_NOT_WORK_CITY      -6.902942e-06 -3.929349e-06 -1.823158e-05   \n",
      "LIVE_CITY_NOT_WORK_CITY     -1.150726e-07  9.308957e-07 -1.015265e-05   \n",
      "EXT_SOURCE_2                 3.097654e-06  5.432819e-06  3.920823e-05   \n",
      "OBS_30_CNT_SOCIAL_CIRCLE    -2.742088e-06  2.417152e-05  4.684061e-05   \n",
      "DEF_30_CNT_SOCIAL_CIRCLE    -6.086507e-07 -1.499740e-06  2.063109e-06   \n",
      "OBS_60_CNT_SOCIAL_CIRCLE    -2.457405e-06  2.452687e-05  4.740132e-05   \n",
      "DEF_60_CNT_SOCIAL_CIRCLE    -3.886470e-07 -1.479418e-06  1.057740e-06   \n",
      "DAYS_LAST_PHONE_CHANGE       1.432907e-02  6.571757e-02  9.974154e-01   \n",
      "FLAG_DOCUMENT_2             -4.013223e-09  1.400427e-09  8.641877e-11   \n",
      "FLAG_DOCUMENT_3              3.986160e-06  3.961339e-06  2.571652e-05   \n",
      "FLAG_DOCUMENT_4             -2.519405e-09 -8.670422e-09 -1.417699e-08   \n",
      "FLAG_DOCUMENT_5             -2.829677e-07  3.076795e-07  1.883133e-06   \n",
      "FLAG_DOCUMENT_6              2.894741e-06  1.413034e-06 -9.770583e-06   \n",
      "FLAG_DOCUMENT_7              4.350946e-09  7.460505e-09 -4.529830e-08   \n",
      "FLAG_DOCUMENT_8             -2.017738e-06  3.404208e-06  2.355648e-06   \n",
      "FLAG_DOCUMENT_9             -3.112584e-08 -3.954506e-07 -2.976051e-07   \n",
      "FLAG_DOCUMENT_10             2.317144e-09  1.916456e-09 -4.569188e-09   \n",
      "FLAG_DOCUMENT_11            -5.201740e-07 -5.324062e-07 -3.224396e-06   \n",
      "FLAG_DOCUMENT_12             1.188967e-09  4.718451e-09  1.258324e-08   \n",
      "FLAG_DOCUMENT_13            -1.663494e-07  2.122853e-07 -1.716622e-06   \n",
      "FLAG_DOCUMENT_14            -2.946312e-07 -1.238064e-08 -1.809148e-06   \n",
      "FLAG_DOCUMENT_15            -3.982668e-08  1.057089e-07 -5.801907e-07   \n",
      "FLAG_DOCUMENT_16             3.245645e-07  4.546389e-07 -5.339909e-06   \n",
      "FLAG_DOCUMENT_17            -2.487572e-08 -3.587119e-08 -1.298772e-07   \n",
      "FLAG_DOCUMENT_18            -5.435075e-07 -6.100441e-08 -5.061779e-06   \n",
      "FLAG_DOCUMENT_19             2.541541e-08  1.076416e-08 -2.452934e-07   \n",
      "FLAG_DOCUMENT_20            -1.073767e-08  3.992651e-08 -2.895473e-07   \n",
      "FLAG_DOCUMENT_21            -1.262000e-07 -1.437036e-07 -1.060794e-07   \n",
      "\n",
      "                                     PC10  \n",
      "CNT_CHILDREN                 3.552058e-03  \n",
      "AMT_INCOME_TOTAL             1.987754e-07  \n",
      "AMT_CREDIT                  -3.545915e-07  \n",
      "AMT_ANNUITY                  6.760801e-06  \n",
      "AMT_GOODS_PRICE              2.083944e-07  \n",
      "REGION_POPULATION_RELATIVE  -1.075264e-04  \n",
      "DAYS_BIRTH                   1.064757e-05  \n",
      "DAYS_EMPLOYED               -4.860789e-07  \n",
      "DAYS_REGISTRATION            1.357999e-05  \n",
      "DAYS_ID_PUBLISH             -3.039787e-05  \n",
      "FLAG_MOBIL                   1.292022e-14  \n",
      "FLAG_EMP_PHONE               1.334125e-05  \n",
      "FLAG_WORK_PHONE             -1.763800e-03  \n",
      "FLAG_CONT_MOBILE             3.548181e-05  \n",
      "FLAG_PHONE                  -5.378580e-03  \n",
      "FLAG_EMAIL                  -2.190507e-04  \n",
      "CNT_FAM_MEMBERS              7.496351e-03  \n",
      "REGION_RATING_CLIENT         9.120797e-03  \n",
      "REGION_RATING_CLIENT_W_CITY  8.050180e-03  \n",
      "HOUR_APPR_PROCESS_START     -1.028278e-01  \n",
      "REG_REGION_NOT_LIVE_REGION  -8.855814e-04  \n",
      "REG_REGION_NOT_WORK_REGION  -2.141930e-03  \n",
      "LIVE_REGION_NOT_WORK_REGION -1.531678e-03  \n",
      "REG_CITY_NOT_LIVE_CITY      -1.056608e-03  \n",
      "REG_CITY_NOT_WORK_CITY      -4.665665e-04  \n",
      "LIVE_CITY_NOT_WORK_CITY      1.400070e-04  \n",
      "EXT_SOURCE_2                -1.958851e-03  \n",
      "OBS_30_CNT_SOCIAL_CIRCLE     7.053765e-01  \n",
      "DEF_30_CNT_SOCIAL_CIRCLE     4.437964e-02  \n",
      "OBS_60_CNT_SOCIAL_CIRCLE     6.991686e-01  \n",
      "DEF_60_CNT_SOCIAL_CIRCLE     2.793682e-02  \n",
      "DAYS_LAST_PHONE_CHANGE      -6.271515e-05  \n",
      "FLAG_DOCUMENT_2              2.609131e-06  \n",
      "FLAG_DOCUMENT_3              4.221362e-03  \n",
      "FLAG_DOCUMENT_4             -3.973025e-06  \n",
      "FLAG_DOCUMENT_5             -4.430982e-04  \n",
      "FLAG_DOCUMENT_6              1.051768e-04  \n",
      "FLAG_DOCUMENT_7             -4.886012e-06  \n",
      "FLAG_DOCUMENT_8             -1.941646e-03  \n",
      "FLAG_DOCUMENT_9             -1.552544e-04  \n",
      "FLAG_DOCUMENT_10             1.894299e-06  \n",
      "FLAG_DOCUMENT_11            -9.153494e-05  \n",
      "FLAG_DOCUMENT_12            -6.847437e-07  \n",
      "FLAG_DOCUMENT_13            -9.584991e-05  \n",
      "FLAG_DOCUMENT_14            -7.633380e-05  \n",
      "FLAG_DOCUMENT_15            -2.726649e-05  \n",
      "FLAG_DOCUMENT_16             5.695967e-05  \n",
      "FLAG_DOCUMENT_17            -7.854581e-06  \n",
      "FLAG_DOCUMENT_18             6.254577e-06  \n",
      "FLAG_DOCUMENT_19             1.652308e-06  \n",
      "FLAG_DOCUMENT_20            -6.688423e-07  \n",
      "FLAG_DOCUMENT_21            -6.866192e-06  \n",
      "AMT_CREDIT                     7.342335e-01\n",
      "AMT_GOODS_PRICE                6.731188e-01\n",
      "AMT_INCOME_TOTAL               8.409090e-02\n",
      "AMT_ANNUITY                    2.059913e-02\n",
      "DAYS_EMPLOYED                  1.778928e-02\n",
      "DAYS_BIRTH                     4.109482e-04\n",
      "DAYS_LAST_PHONE_CHANGE         1.166719e-04\n",
      "DAYS_REGISTRATION              7.557823e-05\n",
      "DAYS_ID_PUBLISH                1.619251e-05\n",
      "HOUR_APPR_PROCESS_START        3.494814e-07\n",
      "CNT_FAM_MEMBERS                1.064802e-07\n",
      "REGION_RATING_CLIENT_W_CITY    1.055501e-07\n",
      "REGION_RATING_CLIENT           9.835909e-08\n",
      "FLAG_DOCUMENT_3                7.077276e-08\n",
      "FLAG_EMP_PHONE                 4.988091e-08\n",
      "EXT_SOURCE_2                   4.799072e-08\n",
      "FLAG_DOCUMENT_8                4.244514e-08\n",
      "FLAG_PHONE                     2.736743e-08\n",
      "FLAG_DOCUMENT_6                2.699184e-08\n",
      "REG_REGION_NOT_WORK_REGION     2.209428e-08\n",
      "LIVE_REGION_NOT_WORK_REGION    1.985821e-08\n",
      "DEF_30_CNT_SOCIAL_CIRCLE       1.809232e-08\n",
      "DEF_60_CNT_SOCIAL_CIRCLE       1.626286e-08\n",
      "REG_CITY_NOT_WORK_CITY         1.394930e-08\n",
      "REG_CITY_NOT_LIVE_CITY         1.292445e-08\n",
      "FLAG_DOCUMENT_16               1.050368e-08\n",
      "FLAG_WORK_PHONE                7.895722e-09\n",
      "FLAG_EMAIL                     7.887988e-09\n",
      "REG_REGION_NOT_LIVE_REGION     5.876486e-09\n",
      "FLAG_DOCUMENT_13               5.580659e-09\n",
      "FLAG_DOCUMENT_18               5.376299e-09\n",
      "FLAG_DOCUMENT_14               4.742765e-09\n",
      "FLAG_DOCUMENT_11               3.540422e-09\n",
      "CNT_CHILDREN                   2.629482e-09\n",
      "REGION_POPULATION_RELATIVE     2.628386e-09\n",
      "FLAG_DOCUMENT_9                2.528331e-09\n",
      "FLAG_DOCUMENT_15               1.952603e-09\n",
      "FLAG_CONT_MOBILE               1.761040e-09\n",
      "FLAG_DOCUMENT_5                1.488737e-09\n",
      "OBS_30_CNT_SOCIAL_CIRCLE       1.431808e-09\n",
      "OBS_60_CNT_SOCIAL_CIRCLE       1.242865e-09\n",
      "FLAG_DOCUMENT_20               1.234048e-09\n",
      "FLAG_DOCUMENT_19               8.976501e-10\n",
      "LIVE_CITY_NOT_WORK_CITY        5.177523e-10\n",
      "FLAG_DOCUMENT_21               5.051832e-10\n",
      "FLAG_DOCUMENT_17               3.277249e-10\n",
      "FLAG_DOCUMENT_2                1.166929e-10\n",
      "FLAG_DOCUMENT_10               1.945851e-11\n",
      "FLAG_DOCUMENT_12               1.904478e-11\n",
      "FLAG_DOCUMENT_4                1.431877e-11\n",
      "FLAG_DOCUMENT_7                7.195480e-12\n",
      "FLAG_MOBIL                     1.274670e-29\n",
      "Name: PC1, dtype: float64\n"
     ]
    }
   ],
   "source": [
    "# Fit PCA\n",
    "pca = PCA(n_components=10)\n",
    "pca.fit(X)\n",
    "\n",
    "# Create a DataFrame for the loadings\n",
    "loadings = pd.DataFrame(pca.components_.T, columns=[f'PC{i+1}' for i in range(pca.n_components_)], index=X.columns)\n",
    "\n",
    "# Display the loadings\n",
    "print(loadings)\n",
    "\n",
    "# Sort the loadings for the first principal component\n",
    "sorted_loadings = loadings['PC1'].abs().sort_values(ascending=False)\n",
    "print(sorted_loadings)"
   ]
  },
  {
   "cell_type": "code",
   "execution_count": 28,
   "metadata": {},
   "outputs": [
    {
     "data": {
      "text/plain": [
       "{'AMT_ANNUITY',\n",
       " 'AMT_CREDIT',\n",
       " 'AMT_GOODS_PRICE',\n",
       " 'AMT_INCOME_TOTAL',\n",
       " 'DAYS_BIRTH',\n",
       " 'DAYS_EMPLOYED',\n",
       " 'DAYS_ID_PUBLISH',\n",
       " 'DAYS_LAST_PHONE_CHANGE',\n",
       " 'DAYS_REGISTRATION',\n",
       " 'HOUR_APPR_PROCESS_START'}"
      ]
     },
     "execution_count": 28,
     "metadata": {},
     "output_type": "execute_result"
    }
   ],
   "source": [
    "pca_features = set(sorted_loadings.index[:10])\n",
    "pca_features"
   ]
  },
  {
   "cell_type": "code",
   "execution_count": 31,
   "metadata": {},
   "outputs": [
    {
     "name": "stdout",
     "output_type": "stream",
     "text": [
      "Common Features: ['DAYS_EMPLOYED', 'DAYS_LAST_PHONE_CHANGE', 'DAYS_REGISTRATION', 'AMT_CREDIT', 'AMT_ANNUITY', 'DAYS_BIRTH', 'DAYS_ID_PUBLISH', 'AMT_INCOME_TOTAL']\n"
     ]
    }
   ],
   "source": [
    "# Find common features across all methods\n",
    "common_features = (univariate_features\n",
    "                   .intersection(rfe_features)\n",
    "                   .intersection(pca_features))\n",
    "\n",
    "# Display the first 10 common features\n",
    "print(\"Common Features:\", list(common_features)[:10])"
   ]
  },
  {
   "cell_type": "code",
   "execution_count": 34,
   "metadata": {},
   "outputs": [],
   "source": [
    "common_features_list = list(common_features)\n",
    "df_train = df_application_train[common_features_list + [\"TARGET\", \"SK_ID_CURR\"]]\n",
    "df_test = df_application_test[common_features_list + [\"SK_ID_CURR\"]]"
   ]
  },
  {
   "cell_type": "code",
   "execution_count": 38,
   "metadata": {},
   "outputs": [
    {
     "data": {
      "text/plain": [
       "DAYS_EMPLOYED              0\n",
       "DAYS_LAST_PHONE_CHANGE     0\n",
       "DAYS_REGISTRATION          0\n",
       "AMT_CREDIT                 0\n",
       "AMT_ANNUITY               24\n",
       "DAYS_BIRTH                 0\n",
       "DAYS_ID_PUBLISH            0\n",
       "AMT_INCOME_TOTAL           0\n",
       "SK_ID_CURR                 0\n",
       "dtype: int64"
      ]
     },
     "execution_count": 38,
     "metadata": {},
     "output_type": "execute_result"
    }
   ],
   "source": [
    "df_test.dropna(inplace=True)"
   ]
  },
  {
   "cell_type": "markdown",
   "metadata": {},
   "source": [
    "## Perform `StandardScaling` before exporting files"
   ]
  },
  {
   "cell_type": "code",
   "execution_count": 42,
   "metadata": {},
   "outputs": [],
   "source": [
    "# Assuming df_train and df_test are already defined\n",
    "\n",
    "# Separate features and target variable for df_train\n",
    "X_train = df_train.drop(columns=[\"TARGET\", \"SK_ID_CURR\"])\n",
    "y_train = df_train[\"TARGET\"]\n",
    "\n",
    "# Initialize the StandardScaler\n",
    "scaler = StandardScaler()\n",
    "\n",
    "# Fit and transform the training data\n",
    "X_train_scaled = scaler.fit_transform(X_train)\n",
    "\n",
    "# Transform the test data\n",
    "X_test_scaled = scaler.transform(df_test.drop(columns=[\"SK_ID_CURR\"]))\n",
    "\n",
    "# Create new DataFrames with scaled data\n",
    "df_train_scaled = pd.DataFrame(X_train_scaled, columns=X_train.columns)\n",
    "df_test_scaled = pd.DataFrame(X_test_scaled, columns=df_test.drop(columns=[\"SK_ID_CURR\"]).columns)\n",
    "\n",
    "# Add back the ID columns\n",
    "df_train_scaled[\"TARGET\"] = y_train.values\n",
    "df_train_scaled[\"SK_ID_CURR\"] = df_train[\"SK_ID_CURR\"].values\n",
    "df_test_scaled[\"SK_ID_CURR\"] = df_test[\"SK_ID_CURR\"].values\n",
    "\n",
    "# Export to CSV\n",
    "df_train_scaled.to_csv(\"./outputs/preprocessed_data/df_train.csv\", index=False)\n",
    "df_test_scaled.to_csv(\"./outputs/preprocessed_data/df_test.csv\", index=False)"
   ]
  },
  {
   "cell_type": "code",
   "execution_count": null,
   "metadata": {},
   "outputs": [],
   "source": []
  }
 ],
 "metadata": {
  "kernelspec": {
   "display_name": ".venv",
   "language": "python",
   "name": "python3"
  },
  "language_info": {
   "codemirror_mode": {
    "name": "ipython",
    "version": 3
   },
   "file_extension": ".py",
   "mimetype": "text/x-python",
   "name": "python",
   "nbconvert_exporter": "python",
   "pygments_lexer": "ipython3",
   "version": "3.9.7"
  }
 },
 "nbformat": 4,
 "nbformat_minor": 2
}
