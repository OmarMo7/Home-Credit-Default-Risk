{
 "cells": [
  {
   "cell_type": "code",
   "execution_count": 48,
   "metadata": {},
   "outputs": [],
   "source": [
    "# !pip install tensorflow\n",
    "# !pip install imbalanced-learn"
   ]
  },
  {
   "cell_type": "code",
   "execution_count": 49,
   "metadata": {},
   "outputs": [],
   "source": [
    "import pandas as pd\n",
    "import matplotlib.pyplot as plt\n",
    "from imblearn.over_sampling import SMOTE\n",
    "from sklearn.preprocessing import StandardScaler\n",
    "from sklearn.model_selection import train_test_split\n",
    "from sklearn.metrics import classification_report, roc_auc_score, roc_curve\n",
    "from sklearn.metrics import confusion_matrix, ConfusionMatrixDisplay"
   ]
  },
  {
   "cell_type": "code",
   "execution_count": 50,
   "metadata": {},
   "outputs": [],
   "source": [
    "from tensorflow.keras.models import Sequential\n",
    "from tensorflow.keras.layers import Dense, Dropout, BatchNormalization\n",
    "from tensorflow.keras.callbacks import EarlyStopping"
   ]
  },
  {
   "cell_type": "code",
   "execution_count": 51,
   "metadata": {},
   "outputs": [],
   "source": [
    "df_train_original = pd.read_csv('outputs/preprocessed_data/df_train.csv')\n",
    "df_test_original = pd.read_csv('outputs/preprocessed_data/df_test.csv')"
   ]
  },
  {
   "cell_type": "code",
   "execution_count": 71,
   "metadata": {},
   "outputs": [
    {
     "data": {
      "text/plain": [
       "Index(['AMT_ANNUITY', 'DAYS_BIRTH', 'DAYS_LAST_PHONE_CHANGE',\n",
       "       'DAYS_REGISTRATION', 'AMT_CREDIT', 'DAYS_EMPLOYED', 'AMT_INCOME_TOTAL',\n",
       "       'DAYS_ID_PUBLISH', 'SK_ID_CURR', 'TARGET'],\n",
       "      dtype='object')"
      ]
     },
     "execution_count": 71,
     "metadata": {},
     "output_type": "execute_result"
    }
   ],
   "source": [
    "df_train_original.columns"
   ]
  },
  {
   "cell_type": "markdown",
   "metadata": {},
   "source": [
    "### Perform a preprocessing step on the train data"
   ]
  },
  {
   "cell_type": "code",
   "execution_count": 52,
   "metadata": {},
   "outputs": [],
   "source": [
    "# Drop columns with all NaN values\n",
    "df_train_original = df_train_original.dropna(axis=1, how='all')\n",
    "\n",
    "# Drop columns with more than 95% NaN values\n",
    "threshold = len(df_train_original) * 0.95\n",
    "df_train_original = df_train_original.dropna(axis=1, thresh=threshold)\n",
    "\n",
    "# Drop NaN values\n",
    "df_train_original = df_train_original.dropna()\n",
    "\n",
    "# One-hot encode categorical variables\n",
    "df_train_original = pd.get_dummies(df_train_original)"
   ]
  },
  {
   "cell_type": "markdown",
   "metadata": {},
   "source": [
    "### Perform a preprocessing step on the test data"
   ]
  },
  {
   "cell_type": "code",
   "execution_count": 53,
   "metadata": {},
   "outputs": [],
   "source": [
    "# Drop columns with all NaN values\n",
    "df_test_original = df_test_original.dropna(axis=1, how='all')\n",
    "\n",
    "# Drop columns with more than 95% NaN values\n",
    "threshold = len(df_test_original) * 0.95\n",
    "df_test_original = df_test_original.dropna(axis=1, thresh=threshold)\n",
    "\n",
    "# Drop NaN values\n",
    "df_test_original = df_test_original.dropna()\n",
    "\n",
    "# One-hot encode categorical variables\n",
    "df_test_original = pd.get_dummies(df_test_original)"
   ]
  },
  {
   "cell_type": "markdown",
   "metadata": {},
   "source": [
    "### Remove columns from `df_train_original` that do not exist in `df_test_original`"
   ]
  },
  {
   "cell_type": "code",
   "execution_count": 54,
   "metadata": {},
   "outputs": [],
   "source": [
    "intersection = list(set(df_train_original.columns) &\n",
    "                  set(df_test_original.columns))\n",
    "intersection.append(\"TARGET\")\n",
    "\n",
    "df_train_original = df_train_original[intersection]"
   ]
  },
  {
   "cell_type": "code",
   "execution_count": 55,
   "metadata": {},
   "outputs": [],
   "source": [
    "# Separate features and target variable from df_train\n",
    "X = df_train_original\n",
    "y = df_train_original['TARGET']"
   ]
  },
  {
   "cell_type": "code",
   "execution_count": 56,
   "metadata": {},
   "outputs": [
    {
     "name": "stdout",
     "output_type": "stream",
     "text": [
      "Number of samples before SMOTE:\n",
      "X_train_scaled: 304531\n",
      "y_train: 304531\n"
     ]
    },
    {
     "name": "stderr",
     "output_type": "stream",
     "text": [
      "c:\\Work\\Home Credit Default Risk\\.venv\\lib\\site-packages\\imblearn\\over_sampling\\_smote\\base.py:370: FutureWarning: The parameter `n_jobs` has been deprecated in 0.10 and will be removed in 0.12. You can pass an nearest neighbors estimator where `n_jobs` is already set instead.\n",
      "  warnings.warn(\n"
     ]
    },
    {
     "name": "stdout",
     "output_type": "stream",
     "text": [
      "\n",
      "Number of samples after SMOTE:\n",
      "X_train_balanced: 419796\n",
      "y_train_balanced: 419796\n"
     ]
    }
   ],
   "source": [
    "# Define the SMOTE sampler\n",
    "smote = SMOTE(sampling_strategy=0.5, k_neighbors=10,\n",
    "              random_state=42, n_jobs=-1)\n",
    "\n",
    "# Display the number of samples before SMOTE\n",
    "print(\"Number of samples before SMOTE:\")\n",
    "print(\"X_train_scaled:\", X.shape[0])\n",
    "print(\"y_train:\", y.shape[0])\n",
    "\n",
    "# Apply SMOTE\n",
    "X_train_balanced, y_train_balanced = smote.fit_resample(X, y)\n",
    "\n",
    "# Display the number of samples after SMOTE\n",
    "print(\"\\nNumber of samples after SMOTE:\")\n",
    "print(\"X_train_balanced:\", X_train_balanced.shape[0])\n",
    "print(\"y_train_balanced:\", y_train_balanced.shape[0])"
   ]
  },
  {
   "cell_type": "code",
   "execution_count": 57,
   "metadata": {},
   "outputs": [],
   "source": [
    "X_train_balanced = X_train_balanced.drop(columns=['TARGET', 'SK_ID_CURR'])"
   ]
  },
  {
   "cell_type": "code",
   "execution_count": 58,
   "metadata": {},
   "outputs": [],
   "source": [
    "# Split the data into training and validation sets\n",
    "X_train, X_val, y_train, y_val = train_test_split(\n",
    "    X_train_balanced, y_train_balanced, test_size=0.2, random_state=42)\n",
    "\n",
    "# Initialize the scaler\n",
    "scaler = StandardScaler()\n",
    "\n",
    "# Fit the scaler on the training data and transform it\n",
    "X_train_scaled = scaler.fit_transform(X_train)\n",
    "\n",
    "# Transform the validation and test data\n",
    "X_val_scaled = scaler.transform(X_val)\n",
    "\n",
    "# Ensure df_test has the same columns as X_train\n",
    "df_test_aligned = df_test_original[X_train.columns]\n",
    "\n",
    "# Transform the test data\n",
    "X_test_scaled = scaler.transform(df_test_aligned)"
   ]
  },
  {
   "cell_type": "code",
   "execution_count": 59,
   "metadata": {},
   "outputs": [
    {
     "name": "stderr",
     "output_type": "stream",
     "text": [
      "c:\\Work\\Home Credit Default Risk\\.venv\\lib\\site-packages\\keras\\src\\layers\\core\\dense.py:87: UserWarning: Do not pass an `input_shape`/`input_dim` argument to a layer. When using Sequential models, prefer using an `Input(shape)` object as the first layer in the model instead.\n",
      "  super().__init__(activity_regularizer=activity_regularizer, **kwargs)\n"
     ]
    }
   ],
   "source": [
    "model = Sequential()\n",
    "model.add(Dense(1024, input_dim=X_train_balanced.shape[1], activation='relu'))\n",
    "model.add(BatchNormalization())\n",
    "model.add(Dropout(0.5))\n",
    "model.add(Dense(512, activation='relu'))\n",
    "model.add(BatchNormalization())\n",
    "model.add(Dropout(0.5))\n",
    "model.add(Dense(256, activation='relu'))\n",
    "model.add(BatchNormalization())\n",
    "model.add(Dropout(0.5))\n",
    "model.add(Dense(128, activation='relu'))\n",
    "model.add(BatchNormalization())\n",
    "model.add(Dropout(0.5))\n",
    "model.add(Dense(64, activation='relu'))\n",
    "model.add(BatchNormalization())\n",
    "model.add(Dropout(0.5))\n",
    "model.add(Dense(32, activation='relu'))\n",
    "model.add(BatchNormalization())\n",
    "model.add(Dropout(0.5))\n",
    "model.add(Dense(16, activation='relu'))\n",
    "model.add(BatchNormalization())\n",
    "model.add(Dropout(0.5))\n",
    "model.add(Dense(8, activation='relu'))\n",
    "model.add(Dense(1, activation='sigmoid'))"
   ]
  },
  {
   "cell_type": "code",
   "execution_count": 60,
   "metadata": {},
   "outputs": [],
   "source": [
    "# Compile the model with class weights\n",
    "# class_weights = {0: 1., 1: 10.}  # Adjust the weights as needed\n",
    "\n",
    "\n",
    "# Compile the model\n",
    "\n",
    "model.compile(optimizer='adam', loss='binary_crossentropy', metrics=['accuracy'])\n",
    "\n",
    "# Define early stopping\n",
    "\n",
    "early_stopping = EarlyStopping(\n",
    "monitor='val_loss', patience=5, restore_best_weights=True)"
   ]
  },
  {
   "cell_type": "code",
   "execution_count": 61,
   "metadata": {},
   "outputs": [
    {
     "name": "stdout",
     "output_type": "stream",
     "text": [
      "Epoch 1/30\n",
      "\u001b[1m1312/1312\u001b[0m \u001b[32m━━━━━━━━━━━━━━━━━━━━\u001b[0m\u001b[37m\u001b[0m \u001b[1m52s\u001b[0m 34ms/step - accuracy: 0.6572 - loss: 0.6295 - val_accuracy: 0.7371 - val_loss: 0.5323\n",
      "Epoch 2/30\n",
      "\u001b[1m1312/1312\u001b[0m \u001b[32m━━━━━━━━━━━━━━━━━━━━\u001b[0m\u001b[37m\u001b[0m \u001b[1m83s\u001b[0m 35ms/step - accuracy: 0.7457 - loss: 0.5388 - val_accuracy: 0.7727 - val_loss: 0.4934\n",
      "Epoch 3/30\n",
      "\u001b[1m1312/1312\u001b[0m \u001b[32m━━━━━━━━━━━━━━━━━━━━\u001b[0m\u001b[37m\u001b[0m \u001b[1m63s\u001b[0m 48ms/step - accuracy: 0.7585 - loss: 0.5153 - val_accuracy: 0.7754 - val_loss: 0.4847\n",
      "Epoch 4/30\n",
      "\u001b[1m1312/1312\u001b[0m \u001b[32m━━━━━━━━━━━━━━━━━━━━\u001b[0m\u001b[37m\u001b[0m \u001b[1m83s\u001b[0m 49ms/step - accuracy: 0.7669 - loss: 0.4992 - val_accuracy: 0.7889 - val_loss: 0.4697\n",
      "Epoch 5/30\n",
      "\u001b[1m1312/1312\u001b[0m \u001b[32m━━━━━━━━━━━━━━━━━━━━\u001b[0m\u001b[37m\u001b[0m \u001b[1m77s\u001b[0m 44ms/step - accuracy: 0.7733 - loss: 0.4890 - val_accuracy: 0.7919 - val_loss: 0.4585\n",
      "Epoch 6/30\n",
      "\u001b[1m1312/1312\u001b[0m \u001b[32m━━━━━━━━━━━━━━━━━━━━\u001b[0m\u001b[37m\u001b[0m \u001b[1m86s\u001b[0m 47ms/step - accuracy: 0.7789 - loss: 0.4815 - val_accuracy: 0.7877 - val_loss: 0.4634\n",
      "Epoch 7/30\n",
      "\u001b[1m1312/1312\u001b[0m \u001b[32m━━━━━━━━━━━━━━━━━━━━\u001b[0m\u001b[37m\u001b[0m \u001b[1m54s\u001b[0m 41ms/step - accuracy: 0.7840 - loss: 0.4740 - val_accuracy: 0.7960 - val_loss: 0.4518\n",
      "Epoch 8/30\n",
      "\u001b[1m1312/1312\u001b[0m \u001b[32m━━━━━━━━━━━━━━━━━━━━\u001b[0m\u001b[37m\u001b[0m \u001b[1m78s\u001b[0m 38ms/step - accuracy: 0.7864 - loss: 0.4692 - val_accuracy: 0.7975 - val_loss: 0.4497\n",
      "Epoch 9/30\n",
      "\u001b[1m1312/1312\u001b[0m \u001b[32m━━━━━━━━━━━━━━━━━━━━\u001b[0m\u001b[37m\u001b[0m \u001b[1m49s\u001b[0m 37ms/step - accuracy: 0.7872 - loss: 0.4680 - val_accuracy: 0.7964 - val_loss: 0.4521\n",
      "Epoch 10/30\n",
      "\u001b[1m1312/1312\u001b[0m \u001b[32m━━━━━━━━━━━━━━━━━━━━\u001b[0m\u001b[37m\u001b[0m \u001b[1m49s\u001b[0m 37ms/step - accuracy: 0.7906 - loss: 0.4634 - val_accuracy: 0.7997 - val_loss: 0.4469\n",
      "Epoch 11/30\n",
      "\u001b[1m1312/1312\u001b[0m \u001b[32m━━━━━━━━━━━━━━━━━━━━\u001b[0m\u001b[37m\u001b[0m \u001b[1m86s\u001b[0m 40ms/step - accuracy: 0.7910 - loss: 0.4612 - val_accuracy: 0.8022 - val_loss: 0.4448\n",
      "Epoch 12/30\n",
      "\u001b[1m1312/1312\u001b[0m \u001b[32m━━━━━━━━━━━━━━━━━━━━\u001b[0m\u001b[37m\u001b[0m \u001b[1m65s\u001b[0m 49ms/step - accuracy: 0.7924 - loss: 0.4609 - val_accuracy: 0.8015 - val_loss: 0.4439\n",
      "Epoch 13/30\n",
      "\u001b[1m1312/1312\u001b[0m \u001b[32m━━━━━━━━━━━━━━━━━━━━\u001b[0m\u001b[37m\u001b[0m \u001b[1m69s\u001b[0m 39ms/step - accuracy: 0.7926 - loss: 0.4578 - val_accuracy: 0.7996 - val_loss: 0.4468\n",
      "Epoch 14/30\n",
      "\u001b[1m1312/1312\u001b[0m \u001b[32m━━━━━━━━━━━━━━━━━━━━\u001b[0m\u001b[37m\u001b[0m \u001b[1m87s\u001b[0m 43ms/step - accuracy: 0.7921 - loss: 0.4584 - val_accuracy: 0.8011 - val_loss: 0.4455\n",
      "Epoch 15/30\n",
      "\u001b[1m1312/1312\u001b[0m \u001b[32m━━━━━━━━━━━━━━━━━━━━\u001b[0m\u001b[37m\u001b[0m \u001b[1m61s\u001b[0m 47ms/step - accuracy: 0.7950 - loss: 0.4555 - val_accuracy: 0.8029 - val_loss: 0.4428\n",
      "Epoch 16/30\n",
      "\u001b[1m1312/1312\u001b[0m \u001b[32m━━━━━━━━━━━━━━━━━━━━\u001b[0m\u001b[37m\u001b[0m \u001b[1m83s\u001b[0m 47ms/step - accuracy: 0.7940 - loss: 0.4550 - val_accuracy: 0.8033 - val_loss: 0.4408\n",
      "Epoch 17/30\n",
      "\u001b[1m1312/1312\u001b[0m \u001b[32m━━━━━━━━━━━━━━━━━━━━\u001b[0m\u001b[37m\u001b[0m \u001b[1m64s\u001b[0m 49ms/step - accuracy: 0.7951 - loss: 0.4539 - val_accuracy: 0.8002 - val_loss: 0.4465\n",
      "Epoch 18/30\n",
      "\u001b[1m1312/1312\u001b[0m \u001b[32m━━━━━━━━━━━━━━━━━━━━\u001b[0m\u001b[37m\u001b[0m \u001b[1m50s\u001b[0m 38ms/step - accuracy: 0.7949 - loss: 0.4533 - val_accuracy: 0.8034 - val_loss: 0.4416\n",
      "Epoch 19/30\n",
      "\u001b[1m1312/1312\u001b[0m \u001b[32m━━━━━━━━━━━━━━━━━━━━\u001b[0m\u001b[37m\u001b[0m \u001b[1m79s\u001b[0m 36ms/step - accuracy: 0.7979 - loss: 0.4498 - val_accuracy: 0.8024 - val_loss: 0.4425\n",
      "Epoch 20/30\n",
      "\u001b[1m1312/1312\u001b[0m \u001b[32m━━━━━━━━━━━━━━━━━━━━\u001b[0m\u001b[37m\u001b[0m \u001b[1m50s\u001b[0m 38ms/step - accuracy: 0.7962 - loss: 0.4518 - val_accuracy: 0.8041 - val_loss: 0.4389\n",
      "Epoch 21/30\n",
      "\u001b[1m1312/1312\u001b[0m \u001b[32m━━━━━━━━━━━━━━━━━━━━\u001b[0m\u001b[37m\u001b[0m \u001b[1m80s\u001b[0m 36ms/step - accuracy: 0.7970 - loss: 0.4504 - val_accuracy: 0.8040 - val_loss: 0.4394\n",
      "Epoch 22/30\n",
      "\u001b[1m1312/1312\u001b[0m \u001b[32m━━━━━━━━━━━━━━━━━━━━\u001b[0m\u001b[37m\u001b[0m \u001b[1m83s\u001b[0m 37ms/step - accuracy: 0.7975 - loss: 0.4494 - val_accuracy: 0.8068 - val_loss: 0.4386\n",
      "Epoch 23/30\n",
      "\u001b[1m1312/1312\u001b[0m \u001b[32m━━━━━━━━━━━━━━━━━━━━\u001b[0m\u001b[37m\u001b[0m \u001b[1m83s\u001b[0m 38ms/step - accuracy: 0.7976 - loss: 0.4478 - val_accuracy: 0.8053 - val_loss: 0.4394\n",
      "Epoch 24/30\n",
      "\u001b[1m1312/1312\u001b[0m \u001b[32m━━━━━━━━━━━━━━━━━━━━\u001b[0m\u001b[37m\u001b[0m \u001b[1m84s\u001b[0m 39ms/step - accuracy: 0.7988 - loss: 0.4473 - val_accuracy: 0.8067 - val_loss: 0.4377\n",
      "Epoch 25/30\n",
      "\u001b[1m1312/1312\u001b[0m \u001b[32m━━━━━━━━━━━━━━━━━━━━\u001b[0m\u001b[37m\u001b[0m \u001b[1m47s\u001b[0m 36ms/step - accuracy: 0.7973 - loss: 0.4500 - val_accuracy: 0.8068 - val_loss: 0.4384\n",
      "Epoch 26/30\n",
      "\u001b[1m1312/1312\u001b[0m \u001b[32m━━━━━━━━━━━━━━━━━━━━\u001b[0m\u001b[37m\u001b[0m \u001b[1m48s\u001b[0m 36ms/step - accuracy: 0.7993 - loss: 0.4475 - val_accuracy: 0.8077 - val_loss: 0.4373\n",
      "Epoch 27/30\n",
      "\u001b[1m1312/1312\u001b[0m \u001b[32m━━━━━━━━━━━━━━━━━━━━\u001b[0m\u001b[37m\u001b[0m \u001b[1m82s\u001b[0m 36ms/step - accuracy: 0.7997 - loss: 0.4451 - val_accuracy: 0.8067 - val_loss: 0.4383\n",
      "Epoch 28/30\n",
      "\u001b[1m1312/1312\u001b[0m \u001b[32m━━━━━━━━━━━━━━━━━━━━\u001b[0m\u001b[37m\u001b[0m \u001b[1m48s\u001b[0m 37ms/step - accuracy: 0.8003 - loss: 0.4455 - val_accuracy: 0.8060 - val_loss: 0.4410\n",
      "Epoch 29/30\n",
      "\u001b[1m1312/1312\u001b[0m \u001b[32m━━━━━━━━━━━━━━━━━━━━\u001b[0m\u001b[37m\u001b[0m \u001b[1m50s\u001b[0m 38ms/step - accuracy: 0.7999 - loss: 0.4448 - val_accuracy: 0.8058 - val_loss: 0.4399\n",
      "Epoch 30/30\n",
      "\u001b[1m1312/1312\u001b[0m \u001b[32m━━━━━━━━━━━━━━━━━━━━\u001b[0m\u001b[37m\u001b[0m \u001b[1m82s\u001b[0m 38ms/step - accuracy: 0.8001 - loss: 0.4456 - val_accuracy: 0.8055 - val_loss: 0.4400\n"
     ]
    }
   ],
   "source": [
    "history = model.fit(X_train_scaled, y_train, validation_data=(\n",
    "    X_val_scaled, y_val), epochs=30, batch_size=256, callbacks=[early_stopping])"
   ]
  },
  {
   "cell_type": "code",
   "execution_count": 66,
   "metadata": {},
   "outputs": [
    {
     "name": "stdout",
     "output_type": "stream",
     "text": [
      "\u001b[1m2624/2624\u001b[0m \u001b[32m━━━━━━━━━━━━━━━━━━━━\u001b[0m\u001b[37m\u001b[0m \u001b[1m9s\u001b[0m 3ms/step - accuracy: 0.8096 - loss: 0.4364\n",
      "Validation Accuracy: 0.80768221616745\n"
     ]
    }
   ],
   "source": [
    "# Evaluate the model\n",
    "val_loss, val_accuracy = model.evaluate(X_val_scaled, y_val)\n",
    "print(f'Validation Accuracy: {val_accuracy}')\n"
   ]
  },
  {
   "cell_type": "code",
   "execution_count": 67,
   "metadata": {},
   "outputs": [
    {
     "name": "stdout",
     "output_type": "stream",
     "text": [
      "\u001b[1m2624/2624\u001b[0m \u001b[32m━━━━━━━━━━━━━━━━━━━━\u001b[0m\u001b[37m\u001b[0m \u001b[1m9s\u001b[0m 3ms/step\n",
      "ROC AUC Score: 0.7514120466005771\n"
     ]
    }
   ],
   "source": [
    "# Predict on the validation set\n",
    "y_val_pred = model.predict(X_val_scaled).round().astype(int)\n",
    "\n",
    "# Calculate ROC curve\n",
    "fpr, tpr, thresholds = roc_curve(y_val, y_val_pred)\n",
    "\n",
    "# Calculate the ROC AUC score\n",
    "roc_score = roc_auc_score(y_val, y_val_pred)\n",
    "\n",
    "# Display the ROC AUC score\n",
    "print(\"ROC AUC Score:\", roc_score)"
   ]
  },
  {
   "cell_type": "code",
   "execution_count": 68,
   "metadata": {},
   "outputs": [
    {
     "name": "stdout",
     "output_type": "stream",
     "text": [
      "              precision    recall  f1-score   support\n",
      "\n",
      "           0       0.81      0.92      0.86     55916\n",
      "           1       0.79      0.58      0.67     28044\n",
      "\n",
      "    accuracy                           0.81     83960\n",
      "   macro avg       0.80      0.75      0.77     83960\n",
      "weighted avg       0.81      0.81      0.80     83960\n",
      "\n"
     ]
    }
   ],
   "source": [
    "# Print classification report\n",
    "print(classification_report(y_val, y_val_pred))"
   ]
  },
  {
   "cell_type": "code",
   "execution_count": 69,
   "metadata": {},
   "outputs": [
    {
     "data": {
      "image/png": "[encoded data removed]",
      "text/plain": [
       "<Figure size 640x480 with 2 Axes>"
      ]
     },
     "metadata": {},
     "output_type": "display_data"
    }
   ],
   "source": [
    "# Create the confusion matrix\n",
    "cm = confusion_matrix(y_val, y_val_pred)\n",
    "\n",
    "# Display the confusion matrix\n",
    "disp = ConfusionMatrixDisplay(confusion_matrix=cm)\n",
    "disp.plot(cmap=plt.cm.Blues)\n",
    "plt.show()"
   ]
  },
  {
   "cell_type": "code",
   "execution_count": 15,
   "metadata": {},
   "outputs": [
    {
     "name": "stdout",
     "output_type": "stream",
     "text": [
      "\u001b[1m1493/1493\u001b[0m \u001b[32m━━━━━━━━━━━━━━━━━━━━\u001b[0m\u001b[37m\u001b[0m \u001b[1m9s\u001b[0m 6ms/step\n"
     ]
    }
   ],
   "source": [
    "# Predict on the test set\n",
    "df_test_original['TARGET'] = model.predict(X_test_scaled).round().astype(int)\n",
    "\n",
    "# Export the predictions to a CSV file\n",
    "df_test_original.to_csv('df_test_original_predictions_deep_learning.csv', index=False)"
   ]
  }
 ],
 "metadata": {
  "kernelspec": {
   "display_name": ".venv",
   "language": "python",
   "name": "python3"
  },
  "language_info": {
   "codemirror_mode": {
    "name": "ipython",
    "version": 3
   },
   "file_extension": ".py",
   "mimetype": "text/x-python",
   "name": "python",
   "nbconvert_exporter": "python",
   "pygments_lexer": "ipython3",
   "version": "3.9.7"
  }
 },
 "nbformat": 4,
 "nbformat_minor": 2
}
